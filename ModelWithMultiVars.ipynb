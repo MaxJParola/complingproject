{
 "cells": [
  {
   "cell_type": "code",
   "execution_count": 81,
   "metadata": {
    "collapsed": true
   },
   "outputs": [],
   "source": [
    "from sklearn.model_selection import GridSearchCV\n",
    "from sklearn.model_selection import ParameterGrid\n",
    "import pandas as pd\n",
    "import numpy as np\n",
    "from sklearn.model_selection import train_test_split\n",
    "import string\n",
    "from sklearn.feature_extraction.text import CountVectorizer\n",
    "from sklearn.feature_extraction.text import TfidfTransformer   # “Term Frequency times Inverse Document Frequency”\n",
    "from sklearn.naive_bayes import GaussianNB\n",
    "from sklearn.naive_bayes import BernoulliNB\n",
    "from sklearn.naive_bayes import MultinomialNB       # Multinomial Naive Bayes, supposedly goes well with the data from the transformer\n",
    "from sklearn.svm import SVC\n",
    "from sklearn.svm import LinearSVC\n",
    "from sklearn.linear_model import LogisticRegression\n",
    "from sklearn.metrics import precision_recall_fscore_support\n",
    "from sklearn.model_selection import cross_val_score\n",
    "from sklearn.metrics import accuracy_score\n",
    "from sklearn import metrics\n",
    "from sklearn.metrics import accuracy_score, f1_score, recall_score, precision_score, classification_report, confusion_matrix\n",
    "from sklearn.pipeline import make_union # used to combine multiple features\n",
    "from sklearn.preprocessing import StandardScaler # used to fit and transform the vote counts\n",
    "from sklearn.pipeline import FeatureUnion\n",
    "from sklearn.pipeline import Pipeline\n",
    "from sklearn.preprocessing import maxabs_scale"
   ]
  },
  {
   "cell_type": "code",
   "execution_count": 82,
   "metadata": {
    "collapsed": true
   },
   "outputs": [],
   "source": [
    "df = pd.read_csv('C:\\\\Users\\\\maxjp\\\\PycharmProjects\\\\complingproject\\\\MasterDataFileVotes.csv')      # to read the training data into working memory\n",
    "df['feature'] = df['feature'].replace(to_replace='<.*>', value='', regex=True)\n",
    "\n",
    "\n"
   ]
  },
  {
   "cell_type": "code",
   "execution_count": 102,
   "metadata": {},
   "outputs": [],
   "source": [
    "X_train, X_test, y_train, y_test, Z_train, Z_test = train_test_split(df['feature'],   # Test-Train Split function\n",
    "                                                    df['target'], \n",
    "                                                    df['vote'],\n",
    "                                                    train_size = 0.8,\n",
    "                                                    test_size = 0.2,\n",
    "                                                    random_state=14\n",
    "                                                    )"
   ]
  },
  {
   "cell_type": "code",
   "execution_count": 87,
   "metadata": {},
   "outputs": [
    {
     "data": {
      "text/plain": [
       "514     Thanks a lot for the steps. I got somehow lost...\n548     StudentID is used to anonymize data (in place ...\n1772    Pretty sure I've found the outliers, but if I ...\n2275    only pdf.  ;But I discovered that I don't need...\n3274    I couldn't agree more. I have a taken statisti...\n905     Luc  ; Jason -- either of your interpretations...\n1316    Hi Anant,  Here are two quick comments: 1) The...\n1179    Hi. We'll discuss IRT in week 4 of the class. ...\n1312    I downloaded the zip file and compiled and exe...\n2753    What changes required to run linear regression...\n2356    What I did Luc was to start out with the first...\n2935    So everything should be OK if your answer in t...\n259       Thanks to everyone who came! See you next time.\n939     Hi Bassirou,  Did you make sure to connect the...\n782     Hi, ;. I actually didn't need to register on t...\n2242    To select he number k of clusters, we should \"...\n2960                        Sure... mine bikram.chitrakar\n3097    Hi, Ho-yin. I finally had success with RapidMi...\n874     I was able to run the SimpleAPrime class with ...\n3523    I did all nearly the same as Praveen before re...\n273     I' not native speaker and I can't understand p...\n667     I have followed the video, and when I go to se...\n3656    Hi Warren,For Q7 to Q11, consider only pairs o...\n3178    Thanks Brian . Next time I will use the termin...\n2702    Hi Gabriel, If you are enjoying reading about ...\n3023    To be considered linear regression, the model ...\n3095    Hi Ron,I'm not sure what seems to be problem. ...\n839     Hi Anna,  I haven't tried the Quiz, but it see...\n2319    is there any course related to big data which ...\n3364    i am Malaysian Chinese, not from China. i dont...\n                              ...                        \n2149    Hi -- the second graph is created using InVis,...\n1656    I listen to this and think about the way my so...\n3621    I don't know about EDM and learning analytics,...\n2181    Perhaps I'm being a bit thick here, but just t...\n3156    Did it get scored correctly when you submitted...\n470     Khan --  I had the same problem on my mac (MBP...\n1536    The cutoff value is used only for correlation ...\n3722    Hi David,I am not sure if you are interested b...\n3210    Hi Edgar,Be careful when trying all the answer...\n260     Was there a URL posted somewhere for this? Nev...\n2592    HI All..  ; I have been using ORACLE for to th...\n2539    Luc is my hero! I doubt I would have finished ...\n3062    Still cannot understand Q5I've make all the 3 ...\n471     Hi friends~! I'm Ding-Wen Tan from Malaysia. I...\n1049    Hi Jingjing,  It is in the \"Supplemental Mater...\n1690    Thank you Ryan, I see it is really useful.  I ...\n3949         Hi James - Your statement seems right to me.\n3560    @Emanuel : Any idea mate as to where I am goin...\n2621    Hi, I also have the same question, i have regi...\n1232    Hi,  There was an error in the initial version...\n1674    I aggregated on student level (row labels)  ; ...\n2716    Yeah, all the pointing and clicking appears to...\n746      I have completed the Quizz and got 100% resul...\n3430                         Thanks Colin. Good to know. \n3833                                         Thanks, Luc!\n2375    Of course, just format you file. Rename ./Test...\n2454      You can find the links on the Course Wiki page.\n1292    Ah, sorry about that. ; I work with a lot of o...\n1368               Ah, uh .. NO. Work on this some more. \n2667    Thank you.  That makes sense.  I mistakenly th...\nName: feature, Length: 3235, dtype: object"
      ]
     },
     "execution_count": 87,
     "metadata": {},
     "output_type": "execute_result"
    }
   ],
   "source": [
    "X_train"
   ]
  },
  {
   "cell_type": "code",
   "execution_count": 88,
   "metadata": {},
   "outputs": [
    {
     "data": {
      "text/plain": [
       "514     0\n548     0\n1772    0\n2275    0\n3274    1\n905     0\n1316    0\n1179    0\n1312    0\n2753    0\n2356    1\n2935    0\n259     0\n939     0\n782     0\n2242    0\n2960    0\n3097    1\n874     0\n3523    1\n273     0\n667     3\n3656    1\n3178    0\n2702    0\n3023    0\n3095    0\n839     0\n2319    2\n3364    0\n       ..\n2149    1\n1656    0\n3621    2\n2181    0\n3156    0\n470     0\n1536    1\n3722    0\n3210    2\n260     0\n2592    1\n2539    0\n3062    0\n471     0\n1049    0\n1690    0\n3949    0\n3560    0\n2621    0\n1232    1\n1674    0\n2716    0\n746     0\n3430    0\n3833    0\n2375    0\n2454    0\n1292    0\n1368    0\n2667    0\nName: vote, Length: 3235, dtype: int64"
      ]
     },
     "execution_count": 88,
     "metadata": {},
     "output_type": "execute_result"
    }
   ],
   "source": [
    "Z_train"
   ]
  },
  {
   "cell_type": "code",
   "execution_count": 84,
   "metadata": {},
   "outputs": [],
   "source": [
    "vect = CountVectorizer(min_df=1,          # Minimum Document Frequency\n",
    "                       ngram_range=(1, 2),   # unigrams to bigrams\n",
    "                       stop_words='english',   # stopwords\n",
    "                       lowercase =False,\n",
    "                       binary = True\n",
    "                       ).fit(X_train)\n",
    "\n",
    "X_train_vectorized = vect.transform(X_train)\n",
    "X_test_vectorized = vect.transform(X_test)\n",
    "]).fit_transform(X_train_vectorized) # or X_train_dense\n",
    "X_test_vectorized_tfidf = TfidfTransformer().fit_transform(X_test_vectorized) # or X_test_dense"
   ]
  },
  {
   "cell_type": "code",
   "execution_count": 92,
   "metadata": {},
   "outputs": [
    {
     "name": "stderr",
     "output_type": "stream",
     "text": [
      "C:\\ProgramData\\Anaconda3\\lib\\site-packages\\ipykernel_launcher.py:1: FutureWarning: reshape is deprecated and will raise in a subsequent release. Please use .values.reshape(...) instead\n  \"\"\"Entry point for launching an IPython kernel.\nC:\\ProgramData\\Anaconda3\\lib\\site-packages\\ipykernel_launcher.py:2: FutureWarning: reshape is deprecated and will raise in a subsequent release. Please use .values.reshape(...) instead\n  \nC:\\ProgramData\\Anaconda3\\lib\\site-packages\\sklearn\\utils\\validation.py:475: DataConversionWarning: Data with input dtype int64 was converted to float64 by StandardScaler.\n  warnings.warn(msg, DataConversionWarning)\n"
     ]
    }
   ],
   "source": [
    "Z_traint = Z_train.reshape(-1, 1)\n",
    "Z_testt = Z_train.reshape(-1, 1)\n",
    "#fittransformZ = StandardScaler().fit(Z_traint)\n",
    "#Z_train_transform = fittransformZ.transform(Z_traint)\n",
    "#Z_test_transform = fittransformZ.transform(Z_testt)\n",
    "Z_train_fit = StandardScaler().fit_transform(Z_traint)\n",
    "# Z_train_transform = maxabs_scale(Z_train)\n",
    "# Z_test_transform = maxabs_scale(Z_test)\n"
   ]
  },
  {
   "cell_type": "code",
   "execution_count": 93,
   "metadata": {},
   "outputs": [
    {
     "data": {
      "text/plain": [
       "<3235x87594 sparse matrix of type '<class 'numpy.int64'>'\n\twith 174384 stored elements in Compressed Sparse Row format>"
      ]
     },
     "execution_count": 93,
     "metadata": {},
     "output_type": "execute_result"
    }
   ],
   "source": [
    "X_train_vectorized"
   ]
  },
  {
   "cell_type": "code",
   "execution_count": 104,
   "metadata": {},
   "outputs": [
    {
     "data": {
      "text/plain": [
       "array([[-0.31548401],\n       [-0.31548401],\n       [-0.31548401],\n       ..., \n       [-0.31548401],\n       [-0.31548401],\n       [-0.31548401]])"
      ]
     },
     "execution_count": 104,
     "metadata": {},
     "output_type": "execute_result"
    }
   ],
   "source": [
    "Z_train_fit"
   ]
  },
  {
   "cell_type": "code",
   "execution_count": 98,
   "metadata": {},
   "outputs": [],
   "source": [
    ""
   ]
  },
  {
   "cell_type": "code",
   "execution_count": 125,
   "metadata": {},
   "outputs": [
    {
     "name": "stderr",
     "output_type": "stream",
     "text": [
      "C:\\ProgramData\\Anaconda3\\lib\\site-packages\\ipykernel_launcher.py:1: FutureWarning: reshape is deprecated and will raise in a subsequent release. Please use .values.reshape(...) instead\n  \"\"\"Entry point for launching an IPython kernel.\n"
     ]
    },
    {
     "name": "stderr",
     "output_type": "stream",
     "text": [
      "C:\\ProgramData\\Anaconda3\\lib\\site-packages\\sklearn\\utils\\validation.py:475: DataConversionWarning: Data with input dtype int64 was converted to float64 by StandardScaler.\n  warnings.warn(msg, DataConversionWarning)\n"
     ]
    }
   ],
   "source": [
    "Z_trainReshape = Z_train.reshape(-1, 1)\n",
    "feature_list = (('Vectorizer', \n",
    "                CountVectorizer(min_df=1,\n",
    "                       ngram_range=(1, 2),\n",
    "                       stop_words='english',\n",
    "                       lowercase = False,\n",
    "                       binary = True).fit_transform(X_train)),\n",
    "                ('Scaler', StandardScaler().fit_transform(Z_trainReshape)))"
   ]
  },
  {
   "cell_type": "code",
   "execution_count": 126,
   "metadata": {},
   "outputs": [
    {
     "ename": "TypeError",
     "evalue": "All estimators should implement fit and transform. '  (0, 45116)\t1\n  (0, 75074)\t1\n  (0, 33995)\t1\n  (0, 27028)\t1\n  (0, 12984)\t1\n  (0, 57054)\t1\n  (0, 35125)\t1\n  (0, 68619)\t1\n  (0, 29736)\t1\n  (0, 79734)\t1\n  (0, 11018)\t1\n  (0, 64437)\t1\n  (0, 54736)\t1\n  (0, 45492)\t1\n  (0, 75607)\t1\n  (0, 54841)\t1\n  (0, 18800)\t1\n  (0, 6442)\t1\n  (0, 45112)\t1\n  (0, 75044)\t1\n  (0, 33690)\t1\n  (0, 27001)\t1\n  (0, 12973)\t1\n  (0, 57043)\t1\n  (0, 34800)\t1\n  :\t:\n  (3234, 57348)\t1\n  (3234, 72205)\t1\n  (3234, 18603)\t1\n  (3234, 34180)\t1\n  (3234, 18901)\t1\n  (3234, 20543)\t1\n  (3234, 57344)\t1\n  (3234, 78280)\t1\n  (3234, 69039)\t1\n  (3234, 60323)\t1\n  (3234, 76473)\t1\n  (3234, 18814)\t1\n  (3234, 55382)\t1\n  (3234, 18578)\t1\n  (3234, 72172)\t1\n  (3234, 18856)\t1\n  (3234, 73078)\t1\n  (3234, 20531)\t1\n  (3234, 55358)\t1\n  (3234, 47000)\t1\n  (3234, 27710)\t1\n  (3234, 66666)\t1\n  (3234, 79317)\t1\n  (3234, 77191)\t1\n  (3234, 18670)\t1' (type <class 'scipy.sparse.csr.csr_matrix'>) doesn't",
     "traceback": [
      "\u001b[1;31m---------------------------------------------------------------------------\u001b[0m",
      "\u001b[1;31mTypeError\u001b[0m                                 Traceback (most recent call last)",
      "\u001b[1;32m<ipython-input-126-e801a5806b7d>\u001b[0m in \u001b[0;36m<module>\u001b[1;34m()\u001b[0m\n\u001b[1;32m----> 1\u001b[1;33m \u001b[0mX_train\u001b[0m \u001b[1;33m=\u001b[0m \u001b[0mFeatureUnion\u001b[0m\u001b[1;33m(\u001b[0m\u001b[0mfeature_list\u001b[0m\u001b[1;33m)\u001b[0m\u001b[1;33m\u001b[0m\u001b[0m\n\u001b[0m",
      "\u001b[1;32mC:\\ProgramData\\Anaconda3\\lib\\site-packages\\sklearn\\pipeline.py\u001b[0m in \u001b[0;36m__init__\u001b[1;34m(self, transformer_list, n_jobs, transformer_weights)\u001b[0m\n\u001b[0;32m    620\u001b[0m         \u001b[0mself\u001b[0m\u001b[1;33m.\u001b[0m\u001b[0mn_jobs\u001b[0m \u001b[1;33m=\u001b[0m \u001b[0mn_jobs\u001b[0m\u001b[1;33m\u001b[0m\u001b[0m\n\u001b[0;32m    621\u001b[0m         \u001b[0mself\u001b[0m\u001b[1;33m.\u001b[0m\u001b[0mtransformer_weights\u001b[0m \u001b[1;33m=\u001b[0m \u001b[0mtransformer_weights\u001b[0m\u001b[1;33m\u001b[0m\u001b[0m\n\u001b[1;32m--> 622\u001b[1;33m         \u001b[0mself\u001b[0m\u001b[1;33m.\u001b[0m\u001b[0m_validate_transformers\u001b[0m\u001b[1;33m(\u001b[0m\u001b[1;33m)\u001b[0m\u001b[1;33m\u001b[0m\u001b[0m\n\u001b[0m\u001b[0;32m    623\u001b[0m \u001b[1;33m\u001b[0m\u001b[0m\n\u001b[0;32m    624\u001b[0m     \u001b[1;32mdef\u001b[0m \u001b[0mget_params\u001b[0m\u001b[1;33m(\u001b[0m\u001b[0mself\u001b[0m\u001b[1;33m,\u001b[0m \u001b[0mdeep\u001b[0m\u001b[1;33m=\u001b[0m\u001b[1;32mTrue\u001b[0m\u001b[1;33m)\u001b[0m\u001b[1;33m:\u001b[0m\u001b[1;33m\u001b[0m\u001b[0m\n",
      "\u001b[1;32mC:\\ProgramData\\Anaconda3\\lib\\site-packages\\sklearn\\pipeline.py\u001b[0m in \u001b[0;36m_validate_transformers\u001b[1;34m(self)\u001b[0m\n\u001b[0;32m    664\u001b[0m                 raise TypeError(\"All estimators should implement fit and \"\n\u001b[0;32m    665\u001b[0m                                 \u001b[1;34m\"transform. '%s' (type %s) doesn't\"\u001b[0m \u001b[1;33m%\u001b[0m\u001b[1;33m\u001b[0m\u001b[0m\n\u001b[1;32m--> 666\u001b[1;33m                                 (t, type(t)))\n\u001b[0m\u001b[0;32m    667\u001b[0m \u001b[1;33m\u001b[0m\u001b[0m\n\u001b[0;32m    668\u001b[0m     \u001b[1;32mdef\u001b[0m \u001b[0m_iter\u001b[0m\u001b[1;33m(\u001b[0m\u001b[0mself\u001b[0m\u001b[1;33m)\u001b[0m\u001b[1;33m:\u001b[0m\u001b[1;33m\u001b[0m\u001b[0m\n",
      "\u001b[1;31mTypeError\u001b[0m: All estimators should implement fit and transform. '  (0, 45116)\t1\n  (0, 75074)\t1\n  (0, 33995)\t1\n  (0, 27028)\t1\n  (0, 12984)\t1\n  (0, 57054)\t1\n  (0, 35125)\t1\n  (0, 68619)\t1\n  (0, 29736)\t1\n  (0, 79734)\t1\n  (0, 11018)\t1\n  (0, 64437)\t1\n  (0, 54736)\t1\n  (0, 45492)\t1\n  (0, 75607)\t1\n  (0, 54841)\t1\n  (0, 18800)\t1\n  (0, 6442)\t1\n  (0, 45112)\t1\n  (0, 75044)\t1\n  (0, 33690)\t1\n  (0, 27001)\t1\n  (0, 12973)\t1\n  (0, 57043)\t1\n  (0, 34800)\t1\n  :\t:\n  (3234, 57348)\t1\n  (3234, 72205)\t1\n  (3234, 18603)\t1\n  (3234, 34180)\t1\n  (3234, 18901)\t1\n  (3234, 20543)\t1\n  (3234, 57344)\t1\n  (3234, 78280)\t1\n  (3234, 69039)\t1\n  (3234, 60323)\t1\n  (3234, 76473)\t1\n  (3234, 18814)\t1\n  (3234, 55382)\t1\n  (3234, 18578)\t1\n  (3234, 72172)\t1\n  (3234, 18856)\t1\n  (3234, 73078)\t1\n  (3234, 20531)\t1\n  (3234, 55358)\t1\n  (3234, 47000)\t1\n  (3234, 27710)\t1\n  (3234, 66666)\t1\n  (3234, 79317)\t1\n  (3234, 77191)\t1\n  (3234, 18670)\t1' (type <class 'scipy.sparse.csr.csr_matrix'>) doesn't"
     ],
     "output_type": "error"
    }
   ],
   "source": [
    "X_train = FeatureUnion(feature_list)"
   ]
  },
  {
   "cell_type": "code",
   "execution_count": 20,
   "metadata": {},
   "outputs": [],
   "source": [
    "param_grid = {'C': [1, 10, 100, 1000], 'kernel': ['linear', 'rbf'], 'gamma': [0.001, 0.0001]}, {'C': [1, 10, 100, 1000], 'kernel': ['poly'], 'degree': [3, 4, 5], 'gamma': [0.001, 0.0001],}"
   ]
  },
  {
   "cell_type": "code",
   "execution_count": null,
   "metadata": {},
   "outputs": [],
   "source": [
    "example_model = svm.SVC().fit(X_train_vectorized, y_train)\n",
    "\n",
    "\n",
    "\n",
    "y_prediction = example_model.predict(, skdfj;lj)"
   ]
  },
  {
   "cell_type": "code",
   "execution_count": 36,
   "metadata": {},
   "outputs": [],
   "source": [
    "svc = svm.SVC()\n",
    "clf = GridSearchCV(svc, param_grid)"
   ]
  },
  {
   "cell_type": "code",
   "execution_count": 37,
   "metadata": {},
   "outputs": [
    {
     "data": {
      "text/plain": [
       "GridSearchCV(cv=None, error_score='raise',\n       estimator=SVC(C=1.0, cache_size=200, class_weight=None, coef0=0.0,\n  decision_function_shape='ovr', degree=3, gamma='auto', kernel='rbf',\n  max_iter=-1, probability=False, random_state=None, shrinking=True,\n  tol=0.001, verbose=False),\n       fit_params=None, iid=True, n_jobs=1, param_grid={},\n       pre_dispatch='2*n_jobs', refit=True, return_train_score='warn',\n       scoring=None, verbose=0)"
      ]
     },
     "execution_count": 37,
     "metadata": {},
     "output_type": "execute_result"
    }
   ],
   "source": [
    "clf.fit(X_train_vectorized, y_train)\n"
   ]
  },
  {
   "cell_type": "code",
   "execution_count": 136,
   "metadata": {},
   "outputs": [
    {
     "data": {
      "text/plain": [
       "{}"
      ]
     },
     "execution_count": 136,
     "metadata": {},
     "output_type": "execute_result"
    }
   ],
   "source": [
    "clf.best_score_\n",
    "clf.best_estimator_\n",
    "clf.best_params_\n"
   ]
  },
  {
   "cell_type": "code",
   "execution_count": 70,
   "metadata": {},
   "outputs": [],
   "source": [
    "LSVCParam_Grid = ({'penalty': ['l2'], 'loss': ['squared_hinge'], 'dual': [True, False], 'C': [1, 100, 1000, 10000], \n",
    "                  'multi_class': ['ovr', 'crammer_singer'], 'max_iter': [1000, 2000, 8000]},\n",
    "                  {'penalty': ['l2'], 'loss': ['hinge', 'squared_hinge'], 'dual': [True], 'C': [1, 100, 1000, 10000], \n",
    "                  'multi_class': ['ovr', 'crammer_singer'], 'max_iter': [1000, 2000, 8000]})"
   ]
  },
  {
   "cell_type": "code",
   "execution_count": 71,
   "metadata": {},
   "outputs": [],
   "source": [
    "lsvc = LinearSVC()\n",
    "clf2 = GridSearchCV(lsvc, LSVCParam_Grid)"
   ]
  },
  {
   "cell_type": "code",
   "execution_count": 72,
   "metadata": {},
   "outputs": [
    {
     "data": {
      "text/plain": [
       "GridSearchCV(cv=None, error_score='raise',\n       estimator=LinearSVC(C=1.0, class_weight=None, dual=True, fit_intercept=True,\n     intercept_scaling=1, loss='squared_hinge', max_iter=1000,\n     multi_class='ovr', penalty='l2', random_state=None, tol=0.0001,\n     verbose=0),\n       fit_params=None, iid=True, n_jobs=1,\n       param_grid=({'penalty': ['l2'], 'loss': ['squared_hinge'], 'dual': [True, False], 'C': [1, 100, 1000, 10000], 'multi_class': ['ovr', 'crammer_singer'], 'max_iter': [1000, 2000, 8000]}, {'penalty': ['l2'], 'loss': ['hinge', 'squared_hinge'], 'dual': [True], 'C': [1, 100, 1000, 10000], 'multi_class': ['ovr', 'crammer_singer'], 'max_iter': [1000, 2000, 8000]}),\n       pre_dispatch='2*n_jobs', refit=True, return_train_score='warn',\n       scoring=None, verbose=0)"
      ]
     },
     "execution_count": 72,
     "metadata": {},
     "output_type": "execute_result"
    }
   ],
   "source": [
    "clf2.fit(X_train_vectorized_tfidf, y_train)\n"
   ]
  },
  {
   "cell_type": "code",
   "execution_count": 74,
   "metadata": {},
   "outputs": [
    {
     "name": "stdout",
     "output_type": "stream",
     "text": [
      "LinearSVC with parameters from GridSearchCV\nAccuracy:  0.974042027194\nf1:  0.16\nPrecision:  0.5\nRecall:  0.0952380952381\n             precision    recall  f1-score   support\n\n          0       0.98      1.00      0.99       788\n          1       0.50      0.10      0.16        21\n\navg / total       0.96      0.97      0.97       809\n\n"
     ]
    }
   ],
   "source": [
    "clf2.best_score_\n",
    "\n"
   ]
  },
  {
   "cell_type": "code",
   "execution_count": 75,
   "metadata": {},
   "outputs": [
    {
     "name": "stdout",
     "output_type": "stream",
     "text": [
      "LinearSVC with parameters from GridSearchCV\nAccuracy:  0.974042027194\nf1:  0.16\nPrecision:  0.5\nRecall:  0.0952380952381\n             precision    recall  f1-score   support\n\n          0       0.98      1.00      0.99       788\n          1       0.50      0.10      0.16        21\n\navg / total       0.96      0.97      0.97       809\n\n"
     ]
    }
   ],
   "source": [
    "clf2.best_estimator_"
   ]
  },
  {
   "cell_type": "code",
   "execution_count": 84,
   "metadata": {},
   "outputs": [
    {
     "name": "stdout",
     "output_type": "stream",
     "text": [
      "LinearSVC with parameters from GridSearchCV\nAccuracy:  0.974042027194\nf1:  0.16\nPrecision:  0.5\nRecall:  0.0952380952381\n             precision    recall  f1-score   support\n\n          0       0.98      1.00      0.99       788\n          1       0.50      0.10      0.16        21\n\navg / total       0.96      0.97      0.97       809\n\n"
     ]
    }
   ],
   "source": [
    "clf2.best_params_\n"
   ]
  },
  {
   "cell_type": "code",
   "execution_count": null,
   "metadata": {},
   "outputs": [
    {
     "name": "stdout",
     "output_type": "stream",
     "text": [
      "LinearSVC with parameters from GridSearchCV\nAccuracy:  0.974042027194\nf1:  0.16\nPrecision:  0.5\nRecall:  0.0952380952381\n             precision    recall  f1-score   support\n\n          0       0.98      1.00      0.99       788\n          1       0.50      0.10      0.16        21\n\navg / total       0.96      0.97      0.97       809\n\n"
     ]
    }
   ],
   "source": [
    "\n",
    "clf2.score(X_test_vectorized_tfidf, y_test\n"
   ]
  },
  {
   "cell_type": "code",
   "execution_count": 101,
   "metadata": {},
   "outputs": [
    {
     "name": "stdout",
     "output_type": "stream",
     "text": [
      "LinearSVC with parameters from GridSearchCV\nAccuracy:  0.974042027194\nf1:  0.16\nPrecision:  0.5\nRecall:  0.0952380952381\n             precision    recall  f1-score   support\n\n          0       0.98      1.00      0.99       788\n          1       0.50      0.10      0.16        21\n\navg / total       0.96      0.97      0.97       809\n\n"
     ]
    }
   ],
   "source": [
    "ourlsvc = LinearSVC(C=1, class_weight=None, dual=True, fit_intercept=True,\n",
    "     intercept_scaling=1, loss='hinge', max_iter=1000, multi_class='ovr',\n",
    "     penalty='l2', random_state=None, tol=0.0001, verbose=0).fit(X_train_vectorized, y_train)\n"
   ]
  },
  {
   "cell_type": "code",
   "execution_count": 122,
   "metadata": {},
   "outputs": [
    {
     "name": "stdout",
     "output_type": "stream",
     "text": [
      "LinearSVC with parameters from GridSearchCV\nAccuracy:  0.974042027194\nf1:  0.16\nPrecision:  0.5\nRecall:  0.0952380952381\n             precision    recall  f1-score   support\n\n          0       0.98      1.00      0.99       788\n          1       0.50      0.10      0.16        21\n\navg / total       0.96      0.97      0.97       809\n\n"
     ]
    }
   ],
   "source": [
    "y_predict = ourlsvc.predict(X_test_vectorized)\n",
    "y_test_compare = y_test.as_matrix()"
   ]
  },
  {
   "cell_type": "code",
   "execution_count": 129,
   "metadata": {},
   "outputs": [
    {
     "name": "stdout",
     "output_type": "stream",
     "text": [
      "LinearSVC with parameters from GridSearchCV\nAccuracy:  0.974042027194\nf1:  0.16\nPrecision:  0.5\nRecall:  0.0952380952381\n             precision    recall  f1-score   support\n\n          0       0.98      1.00      0.99       788\n          1       0.50      0.10      0.16        21\n\navg / total       0.96      0.97      0.97       809\n\n"
     ]
    }
   ],
   "source": [
    "print('LinearSVC with parameters from GridSearchCV')\n",
    "print('Accuracy: ', accuracy_score(y_test_compare, y_predict))\n",
    "print('f1: ', f1_score(y_test_compare, y_predict))\n",
    "print('Precision: ', precision_score(y_test_compare, y_predict))\n",
    "print('Recall: ', recall_score(y_test_compare, y_predict))\n",
    "print(classification_report(y_test_compare, y_predict))\n"
   ]
  },
  {
   "cell_type": "code",
   "execution_count": 133,
   "metadata": {},
   "outputs": [
    {
     "name": "stdout",
     "output_type": "stream",
     "text": [
      "LinearSVC with parameters from GridSearchCV\nAccuracy:  0.974042027194\nf1:  0.16\nPrecision:  0.5\nRecall:  0.0952380952381\n             precision    recall  f1-score   support\n\n          0       0.98      1.00      0.99       788\n          1       0.50      0.10      0.16        21\n\navg / total       0.96      0.97      0.97       809\n\n"
     ]
    }
   ],
   "source": [
    "print('LinearSVC with parameters from GridSearchCV')\n",
    "print('Accuracy: ', accuracy_score(y_test, y_predict))\n",
    "print('f1: ', f1_score(y_test, y_predict))\n",
    "print('Precision: ', precision_score(y_test, y_predict))\n",
    "print('Recall: ', recall_score(y_test, y_predict))\n",
    "print(classification_report(y_test, y_predict))"
   ]
  },
  {
   "cell_type": "code",
   "execution_count": 135,
   "metadata": {
    "collapsed": true
   },
   "outputs": [
    {
     "name": "stdout",
     "output_type": "stream",
     "text": [
      "LinearSVC with parameters from GridSearchCV\nAccuracy:  0.974042027194\nf1:  0.16\nPrecision:  0.5\nRecall:  0.0952380952381\n             precision    recall  f1-score   support\n\n          0       0.98      1.00      0.99       788\n          1       0.50      0.10      0.16        21\n\navg / total       0.96      0.97      0.97       809\n\n"
     ]
    }
   ],
   "source": [
    "print('LinearSVC with parameters from GridSearchCV')\n",
    "print('Accuracy: ', accuracy_score(y_test, y_predict))\n",
    "print('f1: ', f1_score(y_test, y_predict))\n",
    "print('Precision: ', precision_score(y_test, y_predict, average='binary'))\n",
    "print('Recall: ', recall_score(y_test, y_predict))\n",
    "print(classification_report(y_test, y_predict))"
   ]
  },
  {
   "cell_type": "code",
   "execution_count": 131,
   "metadata": {},
   "outputs": [
    {
     "name": "stdout",
     "output_type": "stream",
     "text": [
      "LinearSVC with parameters from GridSearchCV\nAccuracy:  0.974042027194\nf1:  0.16\nPrecision:  0.5\nRecall:  0.0952380952381\n             precision    recall  f1-score   support\n\n          0       0.98      1.00      0.99       788\n          1       0.50      0.10      0.16        21\n\navg / total       0.96      0.97      0.97       809\n\n"
     ]
    }
   ],
   "source": [
    "y_test_compare"
   ]
  },
  {
   "cell_type": "code",
   "execution_count": 126,
   "metadata": {},
   "outputs": [
    {
     "data": {
      "text/plain": [
       "array([0, 0, 0, 0, 0, 0, 0, 0, 0, 0, 0, 0, 0, 0, 0, 0, 0, 0, 0, 0, 0, 0, 0,\n       0, 0, 0, 0, 0, 0, 0, 0, 0, 0, 0, 0, 0, 0, 0, 0, 0, 0, 1, 0, 0, 0, 0,\n       0, 0, 0, 0, 0, 0, 0, 0, 0, 0, 0, 0, 0, 0, 0, 0, 0, 0, 0, 0, 0, 0, 0,\n       0, 0, 0, 0, 0, 0, 0, 0, 0, 0, 0, 0, 0, 0, 0, 0, 0, 0, 0, 0, 0, 0, 0,\n       0, 0, 0, 0, 0, 0, 0, 0, 0, 0, 0, 0, 0, 0, 0, 0, 0, 0, 0, 0, 0, 0, 0,\n       0, 0, 0, 0, 0, 0, 0, 0, 0, 0, 0, 0, 0, 0, 0, 0, 0, 0, 0, 0, 0, 0, 0,\n       0, 0, 0, 0, 0, 0, 0, 0, 0, 0, 0, 1, 0, 0, 0, 0, 0, 0, 0, 0, 0, 0, 0,\n       0, 0, 0, 0, 0, 0, 0, 0, 0, 0, 0, 0, 0, 0, 0, 0, 0, 0, 0, 0, 0, 0, 0,\n       0, 0, 0, 0, 0, 0, 0, 0, 0, 0, 0, 0, 0, 0, 0, 0, 0, 0, 0, 0, 0, 0, 0,\n       0, 0, 0, 0, 0, 0, 0, 0, 0, 0, 0, 0, 0, 0, 0, 0, 0, 0, 0, 0, 0, 0, 0,\n       0, 0, 0, 0, 0, 0, 0, 0, 0, 0, 0, 0, 0, 0, 0, 0, 0, 0, 0, 0, 0, 0, 0,\n       0, 0, 0, 0, 0, 0, 0, 0, 0, 0, 0, 0, 0, 0, 0, 0, 0, 0, 0, 0, 0, 0, 0,\n       0, 0, 0, 0, 0, 0, 0, 0, 0, 0, 0, 0, 0, 0, 0, 0, 0, 0, 0, 0, 0, 0, 0,\n       0, 0, 0, 0, 0, 0, 0, 0, 0, 0, 0, 0, 0, 0, 0, 0, 0, 0, 0, 0, 0, 0, 0,\n       0, 0, 0, 0, 0, 0, 0, 0, 0, 0, 0, 0, 0, 0, 0, 0, 0, 0, 0, 0, 0, 0, 0,\n       0, 0, 0, 0, 0, 0, 0, 0, 0, 0, 0, 0, 0, 0, 0, 0, 0, 0, 0, 0, 0, 0, 0,\n       0, 0, 0, 0, 0, 0, 0, 0, 0, 0, 0, 0, 0, 0, 0, 0, 0, 0, 0, 0, 0, 1, 0,\n       0, 0, 0, 0, 0, 0, 0, 0, 0, 0, 0, 0, 0, 0, 0, 0, 0, 0, 0, 0, 0, 0, 0,\n       0, 0, 0, 0, 0, 0, 0, 0, 0, 0, 0, 0, 0, 0, 0, 0, 0, 0, 0, 0, 0, 0, 0,\n       0, 0, 0, 0, 0, 0, 0, 0, 0, 0, 0, 0, 0, 0, 0, 0, 0, 0, 0, 0, 0, 0, 0,\n       0, 0, 0, 0, 0, 0, 0, 0, 0, 0, 0, 0, 0, 0, 0, 0, 0, 0, 0, 0, 0, 0, 0,\n       0, 0, 0, 0, 0, 0, 0, 0, 0, 0, 0, 0, 0, 0, 0, 0, 0, 0, 0, 0, 0, 0, 0,\n       0, 0, 0, 0, 0, 0, 0, 0, 0, 0, 0, 0, 0, 0, 0, 0, 0, 0, 0, 0, 0, 0, 0,\n       0, 0, 0, 0, 0, 0, 0, 0, 0, 0, 0, 0, 0, 0, 0, 0, 0, 0, 0, 0, 0, 0, 0,\n       0, 0, 0, 0, 0, 0, 0, 0, 0, 0, 0, 0, 0, 0, 0, 0, 0, 0, 0, 0, 0, 0, 0,\n       0, 0, 0, 0, 0, 0, 0, 0, 0, 0, 0, 0, 0, 0, 0, 0, 0, 0, 0, 0, 0, 0, 0,\n       0, 0, 0, 0, 0, 0, 0, 0, 0, 0, 0, 0, 0, 0, 0, 0, 0, 0, 0, 0, 0, 0, 0,\n       0, 0, 0, 0, 0, 0, 0, 0, 0, 0, 0, 0, 0, 0, 0, 0, 0, 0, 0, 0, 0, 0, 0,\n       0, 0, 0, 0, 0, 0, 0, 0, 0, 0, 0, 0, 0, 0, 0, 0, 0, 0, 0, 0, 0, 0, 0,\n       0, 0, 0, 0, 0, 0, 0, 0, 0, 0, 0, 0, 0, 0, 0, 0, 0, 0, 0, 0, 0, 0, 0,\n       0, 0, 0, 0, 0, 0, 0, 0, 0, 0, 0, 0, 0, 0, 0, 0, 0, 0, 0, 0, 0, 0, 0,\n       0, 0, 1, 0, 0, 0, 0, 0, 0, 0, 0, 0, 0, 0, 0, 0, 0, 0, 0, 0, 0, 0, 0,\n       0, 0, 0, 0, 0, 0, 0, 0, 0, 0, 0, 0, 0, 0, 0, 0, 0, 0, 0, 0, 0, 0, 0,\n       0, 0, 0, 0, 0, 0, 0, 0, 0, 0, 0, 0, 0, 0, 0, 0, 0, 0, 0, 0, 0, 0, 0,\n       0, 0, 0, 0, 0, 0, 0, 0, 0, 0, 0, 0, 0, 0, 0, 0, 0, 0, 0, 0, 0, 0, 0,\n       0, 0, 0, 0], dtype=int64)"
      ]
     },
     "execution_count": 126,
     "metadata": {},
     "output_type": "execute_result"
    }
   ],
   "source": [
    "y_predict"
   ]
  },
  {
   "cell_type": "code",
   "execution_count": 8,
   "metadata": {},
   "outputs": [
    {
     "name": "stdout",
     "output_type": "stream",
     "text": [
      "Accuracy: 0.89369592089\nF1 score: 0.924445399285\nRecall: 0.89369592089\nPrecision: 0.966897473066\n\n classification report:\n              precision    recall  f1-score   support\n\n          0       0.99      0.90      0.94       788\n          1       0.14      0.62      0.23        21\n\navg / total       0.97      0.89      0.92       809\n\n\n confussion matrix:\n [[710  78]\n [  8  13]]\n"
     ]
    }
   ],
   "source": [
    ""
   ]
  },
  {
   "cell_type": "code",
   "execution_count": 9,
   "metadata": {},
   "outputs": [
    {
     "name": "stdout",
     "output_type": "stream",
     "text": [
      "Accuracy: 0.89369592089\nF1 score: 0.924445399285\nRecall: 0.89369592089\nPrecision: 0.966897473066\n\n classification report:\n              precision    recall  f1-score   support\n\n          0       0.99      0.90      0.94       788\n          1       0.14      0.62      0.23        21\n\navg / total       0.97      0.89      0.92       809\n\n\n confussion matrix:\n [[710  78]\n [  8  13]]\n"
     ]
    }
   ],
   "source": [
    ""
   ]
  },
  {
   "cell_type": "code",
   "execution_count": null,
   "metadata": {},
   "outputs": [],
   "source": []
  }
 ],
 "metadata": {
  "kernelspec": {
   "display_name": "Python 2",
   "language": "python",
   "name": "python2"
  },
  "language_info": {
   "codemirror_mode": {
    "name": "ipython",
    "version": 2
   },
   "file_extension": ".py",
   "mimetype": "text/x-python",
   "name": "python",
   "nbconvert_exporter": "python",
   "pygments_lexer": "ipython2",
   "version": "2.7.6"
  }
 },
 "nbformat": 4,
 "nbformat_minor": 0
}
