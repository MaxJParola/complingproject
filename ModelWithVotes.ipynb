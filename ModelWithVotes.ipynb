{
 "cells": [
  {
   "cell_type": "code",
   "execution_count": 22,
   "metadata": {
    "collapsed": true
   },
   "outputs": [],
   "source": [
    "# import all of the things we need to run the project\n",
    "from sklearn.model_selection import GridSearchCV\n",
    "import pandas as pd\n",
    "import numpy as np\n",
    "from sklearn.model_selection import train_test_split\n",
    "from sklearn.feature_extraction.text import CountVectorizer\n",
    "from sklearn.svm import LinearSVC\n",
    "from sklearn.metrics import accuracy_score, f1_score, recall_score, precision_score, classification_report, confusion_matrix\n",
    "from scipy.sparse import csr_matrix"
   ]
  },
  {
   "cell_type": "code",
   "execution_count": 21,
   "metadata": {},
   "outputs": [],
   "source": [
    "# read in the data file\n",
    "df = pd.read_csv('C:\\\\Users\\\\maxjp\\\\PycharmProjects\\\\complingproject\\\\MasterDataFileVotes.csv')\n",
    "df['feature'] = df['feature'].replace(to_replace='<.*>', value='', regex=True)\n",
    "\n",
    "# Split the data into a test and a training set\n",
    "X_train, X_test, V_train, V_test, y_train, y_test = train_test_split(df['feature'],\n",
    "                                                    df['vote'],\n",
    "                                                    df['target'],\n",
    "                                                    train_size = 0.8,\n",
    "                                                    test_size = 0.2,\n",
    "                                                    random_state=14)\n",
    "\n",
    "# , and fit the text so that it can be read into the model\n",
    "vect = CountVectorizer(min_df=1,\n",
    "                       ngram_range=(1, 2),\n",
    "                       stop_words='english',\n",
    "                       lowercase =False,\n",
    "                       binary = True\n",
    "                       ).fit(X_train)\n",
    "\n",
    "# Transform the data so it can be read into the model\n",
    "X_train_vectorized = vect.transform(X_train)\n",
    "X_test_vectorized = vect.transform(X_test)"
   ]
  },
  {
   "cell_type": "code",
   "execution_count": 41,
   "metadata": {},
   "outputs": [],
   "source": [
    "X_train_vectorized_array = X_train_vectorized.toarray()"
   ]
  },
  {
   "cell_type": "code",
   "execution_count": 42,
   "metadata": {},
   "outputs": [
    {
     "data": {
      "text/plain": [
       "array([[0, 0, 0, ..., 0, 0, 0],\n       [0, 0, 0, ..., 0, 0, 0],\n       [0, 0, 0, ..., 0, 0, 0],\n       ..., \n       [0, 0, 0, ..., 0, 0, 0],\n       [0, 0, 0, ..., 0, 0, 0],\n       [0, 0, 0, ..., 0, 0, 0]], dtype=int64)"
      ]
     },
     "execution_count": 42,
     "metadata": {},
     "output_type": "execute_result"
    }
   ],
   "source": [
    "X_train_vectorized_array"
   ]
  },
  {
   "cell_type": "code",
   "execution_count": 43,
   "metadata": {},
   "outputs": [
    {
     "data": {
      "text/plain": [
       "514     0\n548     0\n1772    0\n2275    0\n3274    1\n905     0\n1316    0\n1179    0\n1312    0\n2753    0\n2356    1\n2935    0\n259     0\n939     0\n782     0\n2242    0\n2960    0\n3097    1\n874     0\n3523    1\n273     0\n667     3\n3656    1\n3178    0\n2702    0\n3023    0\n3095    0\n839     0\n2319    2\n3364    0\n       ..\n2149    1\n1656    0\n3621    2\n2181    0\n3156    0\n470     0\n1536    1\n3722    0\n3210    2\n260     0\n2592    1\n2539    0\n3062    0\n471     0\n1049    0\n1690    0\n3949    0\n3560    0\n2621    0\n1232    1\n1674    0\n2716    0\n746     0\n3430    0\n3833    0\n2375    0\n2454    0\n1292    0\n1368    0\n2667    0\nName: vote, Length: 3235, dtype: int64"
      ]
     },
     "execution_count": 43,
     "metadata": {},
     "output_type": "execute_result"
    }
   ],
   "source": [
    "V_train"
   ]
  },
  {
   "cell_type": "code",
   "execution_count": null,
   "metadata": {},
   "outputs": [],
   "source": [
    "pd.DataFrame(data=)"
   ]
  },
  {
   "cell_type": "code",
   "execution_count": 39,
   "metadata": {},
   "outputs": [
    {
     "ename": "TypeError",
     "evalue": "append() missing 1 required positional argument: 'values'",
     "traceback": [
      "\u001b[1;31m---------------------------------------------------------------------------\u001b[0m",
      "\u001b[1;31mTypeError\u001b[0m                                 Traceback (most recent call last)",
      "\u001b[1;32m<ipython-input-39-1ca06f624c8d>\u001b[0m in \u001b[0;36m<module>\u001b[1;34m()\u001b[0m\n\u001b[1;32m----> 1\u001b[1;33m \u001b[0mX_train_final\u001b[0m \u001b[1;33m=\u001b[0m \u001b[0mnp\u001b[0m\u001b[1;33m.\u001b[0m\u001b[0mappend\u001b[0m\u001b[1;33m(\u001b[0m\u001b[1;33m(\u001b[0m\u001b[0mV_train\u001b[0m\u001b[1;33m,\u001b[0m \u001b[0mX_train_vectorized_array\u001b[0m\u001b[1;33m)\u001b[0m\u001b[1;33m,\u001b[0m \u001b[0maxis\u001b[0m \u001b[1;33m=\u001b[0m \u001b[1;36m1\u001b[0m\u001b[1;33m)\u001b[0m\u001b[1;33m\u001b[0m\u001b[0m\n\u001b[0m",
      "\u001b[1;31mTypeError\u001b[0m: append() missing 1 required positional argument: 'values'"
     ],
     "output_type": "error"
    }
   ],
   "source": [
    "X_train_final = np.append((V_train, X_train_vectorized_array), axis = 1)"
   ]
  },
  {
   "cell_type": "code",
   "execution_count": 20,
   "metadata": {},
   "outputs": [
    {
     "ename": "TypeError",
     "evalue": "append() missing 1 required positional argument: 'values'",
     "traceback": [
      "\u001b[1;31m---------------------------------------------------------------------------\u001b[0m",
      "\u001b[1;31mTypeError\u001b[0m                                 Traceback (most recent call last)",
      "\u001b[1;32m<ipython-input-20-fb04367b477e>\u001b[0m in \u001b[0;36m<module>\u001b[1;34m()\u001b[0m\n\u001b[0;32m      1\u001b[0m \u001b[1;31m# Z = np.concatenate((X, y_hat), axis = 1)\u001b[0m\u001b[1;33m\u001b[0m\u001b[1;33m\u001b[0m\u001b[0m\n\u001b[1;32m----> 2\u001b[1;33m \u001b[0mX_train_final\u001b[0m \u001b[1;33m=\u001b[0m \u001b[0mnp\u001b[0m\u001b[1;33m.\u001b[0m\u001b[0mappend\u001b[0m\u001b[1;33m(\u001b[0m\u001b[1;33m(\u001b[0m\u001b[0mX_train_vectorized\u001b[0m\u001b[1;33m,\u001b[0m \u001b[0mV_train\u001b[0m\u001b[1;33m)\u001b[0m\u001b[1;33m,\u001b[0m \u001b[0maxis\u001b[0m \u001b[1;33m=\u001b[0m \u001b[1;36m1\u001b[0m\u001b[1;33m)\u001b[0m\u001b[1;33m\u001b[0m\u001b[0m\n\u001b[0m",
      "\u001b[1;31mTypeError\u001b[0m: append() missing 1 required positional argument: 'values'"
     ],
     "output_type": "error"
    }
   ],
   "source": [
    "# Z = np.concatenate((X, y_hat), axis = 1)\n",
    "X_train_final = np.append((X_train_vectorized, V_train), axis = 1)"
   ]
  },
  {
   "cell_type": "code",
   "execution_count": 18,
   "metadata": {},
   "outputs": [
    {
     "data": {
      "text/plain": [
       "array([[ <3235x87594 sparse matrix of type '<class 'numpy.int64'>'\n\twith 174384 stored elements in Compressed Sparse Row format>],\n       [ 514     0\n548     0\n1772    0\n2275    0\n3274    1\n905     0\n1316    0\n1179    0\n1312    0\n2753    0\n2356    1\n2935    0\n259     0\n939     0\n782     0\n2242    0\n2960    0\n3097    1\n874     0\n3523    1\n273     0\n667     3\n3656    1\n3178    0\n2702    0\n3023    0\n3095    0\n839     0\n2319    2\n3364    0\n       ..\n2149    1\n1656    0\n3621    2\n2181    0\n3156    0\n470     0\n1536    1\n3722    0\n3210    2\n260     0\n2592    1\n2539    0\n3062    0\n471     0\n1049    0\n1690    0\n3949    0\n3560    0\n2621    0\n1232    1\n1674    0\n2716    0\n746     0\n3430    0\n3833    0\n2375    0\n2454    0\n1292    0\n1368    0\n2667    0\nName: vote, Length: 3235, dtype: int64]], dtype=object)"
      ]
     },
     "execution_count": 18,
     "metadata": {},
     "output_type": "execute_result"
    }
   ],
   "source": [
    "X_train_final"
   ]
  },
  {
   "cell_type": "code",
   "execution_count": 8,
   "metadata": {},
   "outputs": [],
   "source": [
    "# Set up a parameter grid so that the GridSearch knows which parameters to run through part of tuning hyper-parameters\n",
    "LSVCParam_Grid = ({'penalty': ['l2'], 'loss': ['squared_hinge'], 'dual': [True, False], 'C': [1, 100, 1000, 10000], \n",
    "                  'multi_class': ['ovr', 'crammer_singer'], 'max_iter': [1000, 2000, 8000]},\n",
    "                  {'penalty': ['l2'], 'loss': ['hinge', 'squared_hinge'], 'dual': [True], 'C': [1, 100, 1000, 10000], \n",
    "                  'multi_class': ['ovr', 'crammer_singer'], 'max_iter': [1000, 2000, 8000]})"
   ]
  },
  {
   "cell_type": "code",
   "execution_count": 9,
   "metadata": {},
   "outputs": [],
   "source": [
    "# Additional set-up for tuning hyper parameters. We now have the type of model selected.\n",
    "lsvc = LinearSVC()\n",
    "clf = GridSearchCV(lsvc, LSVCParam_Grid)"
   ]
  },
  {
   "cell_type": "code",
   "execution_count": 10,
   "metadata": {},
   "outputs": [
    {
     "name": "stdout",
     "output_type": "stream",
     "text": [
      "Tuning hyper parameters with exhaustive grid search, /n this may take a while...\n"
     ]
    },
    {
     "data": {
      "text/plain": [
       "GridSearchCV(cv=None, error_score='raise',\n       estimator=LinearSVC(C=1.0, class_weight=None, dual=True, fit_intercept=True,\n     intercept_scaling=1, loss='squared_hinge', max_iter=1000,\n     multi_class='ovr', penalty='l2', random_state=None, tol=0.0001,\n     verbose=0),\n       fit_params=None, iid=True, n_jobs=1,\n       param_grid=({'penalty': ['l2'], 'loss': ['squared_hinge'], 'dual': [True, False], 'C': [1, 100, 1000, 10000], 'multi_class': ['ovr', 'crammer_singer'], 'max_iter': [1000, 2000, 8000]}, {'penalty': ['l2'], 'loss': ['hinge', 'squared_hinge'], 'dual': [True], 'C': [1, 100, 1000, 10000], 'multi_class': ['ovr', 'crammer_singer'], 'max_iter': [1000, 2000, 8000]}),\n       pre_dispatch='2*n_jobs', refit=True, return_train_score='warn',\n       scoring=None, verbose=0)"
      ]
     },
     "execution_count": 10,
     "metadata": {},
     "output_type": "execute_result"
    }
   ],
   "source": [
    "# fit the model with all of the parameters selected in the LSVCParam_grid\n",
    "print(\"Tuning hyper parameters with exhaustive grid search, this may take a while...\")\n",
    "clf.fit(X_train_vectorized, y_train)"
   ]
  },
  {
   "cell_type": "code",
   "execution_count": 11,
   "metadata": {},
   "outputs": [
    {
     "name": "stdout",
     "output_type": "stream",
     "text": [
      "The best score from training data was: \n0.971251931994\n"
     ]
    }
   ],
   "source": [
    "print('The best score from training data was: ')\n",
    "print(clf.best_score_)"
   ]
  },
  {
   "cell_type": "code",
   "execution_count": 12,
   "metadata": {},
   "outputs": [
    {
     "name": "stdout",
     "output_type": "stream",
     "text": [
      "Best estimator parameters from Exhaustive Grid Search: \nLinearSVC(C=1, class_weight=None, dual=True, fit_intercept=True,\n     intercept_scaling=1, loss='squared_hinge', max_iter=1000,\n     multi_class='ovr', penalty='l2', random_state=None, tol=0.0001,\n     verbose=0)\n"
     ]
    }
   ],
   "source": [
    "print(\"Best estimator parameters from Exhaustive Grid Search: \")\n",
    "print(clf.best_estimator_)"
   ]
  },
  {
   "cell_type": "code",
   "execution_count": 14,
   "metadata": {},
   "outputs": [
    {
     "name": "stdout",
     "output_type": "stream",
     "text": [
      "Accuracy of best estimator on test data: \n0.974042027194\n"
     ]
    }
   ],
   "source": [
    "clf.score(X_test_vectorized, y_test)\n",
    "print(\"Accuracy of best estimator on test data: \")\n",
    "print(clf.score(X_test_vectorized, y_test))"
   ]
  },
  {
   "cell_type": "code",
   "execution_count": 15,
   "metadata": {},
   "outputs": [
    {
     "name": "stdout",
     "output_type": "stream",
     "text": [
      "Best parameters for not under/overfitting from grid search: \n{'C': 1, 'dual': True, 'loss': 'squared_hinge', 'max_iter': 1000, 'multi_class': 'ovr', 'penalty': 'l2'}\n"
     ]
    }
   ],
   "source": [
    "print(\"Best parameters for not under/overfitting from grid search: \")\n",
    "print(clf.best_params_)"
   ]
  },
  {
   "cell_type": "code",
   "execution_count": 16,
   "metadata": {},
   "outputs": [],
   "source": [
    "# Linear SVC with the best params from the grid search\n",
    "ourlsvc = LinearSVC(C=1, class_weight=None, dual=True, fit_intercept=True,\n",
    "     intercept_scaling=1, loss='hinge', max_iter=1000, multi_class='ovr',\n",
    "     penalty='l2', random_state=None, tol=0.0001, verbose=0).fit(X_train_vectorized, y_train)"
   ]
  },
  {
   "cell_type": "code",
   "execution_count": 17,
   "metadata": {},
   "outputs": [],
   "source": [
    "#use the model to predict values based on text from test dataset\n",
    "y_predict = ourlsvc.predict(X_test_vectorized)\n",
    "y_test_compare = y_test.as_matrix()"
   ]
  },
  {
   "cell_type": "code",
   "execution_count": 18,
   "metadata": {},
   "outputs": [
    {
     "name": "stdout",
     "output_type": "stream",
     "text": [
      "LinearSVC with best parameters from GridSearchCV\nAccuracy:  0.974042027194\nf1:  0.16\nPrecision:  0.5\nRecall:  0.0952380952381\n             precision    recall  f1-score   support\n\n          0       0.98      1.00      0.99       788\n          1       0.50      0.10      0.16        21\n\navg / total       0.96      0.97      0.97       809\n\n"
     ]
    }
   ],
   "source": [
    "print('LinearSVC with best parameters from GridSearchCV')\n",
    "print('Accuracy: ', accuracy_score(y_test_compare, y_predict))\n",
    "print('f1: ', f1_score(y_test_compare, y_predict))\n",
    "print('Precision: ', precision_score(y_test_compare, y_predict))\n",
    "print('Recall: ', recall_score(y_test_compare, y_predict))\n",
    "print(classification_report(y_test_compare, y_predict))"
   ]
  },
  {
   "cell_type": "code",
   "execution_count": 19,
   "metadata": {},
   "outputs": [],
   "source": []
  }
 ],
 "metadata": {
  "kernelspec": {
   "display_name": "Python 2",
   "language": "python",
   "name": "python2"
  },
  "language_info": {
   "codemirror_mode": {
    "name": "ipython",
    "version": 2
   },
   "file_extension": ".py",
   "mimetype": "text/x-python",
   "name": "python",
   "nbconvert_exporter": "python",
   "pygments_lexer": "ipython2",
   "version": "2.7.6"
  }
 },
 "nbformat": 4,
 "nbformat_minor": 0
}
